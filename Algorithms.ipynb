{
 "cells": [
  {
   "cell_type": "code",
   "execution_count": null,
   "metadata": {},
   "outputs": [],
   "source": [
    "## Datastructures links\n",
    "\n",
    "# https://wiki.python.org/moin/TimeComplexity\n",
    "# https://pymotw.com/3/collections/deque.html\n",
    "\n",
    "# https://www.pythoncentral.io/priority-queue-beginners-guide/\n",
    "# https://www.bogotobogo.com/python/python_PriorityQueue_heapq_Data_Structure.php\n",
    "# https://pymotw.com/3/queue/\n",
    "# http://www.learn4master.com/programming-language/python/python-queue-for-multithreading"
   ]
  },
  {
   "cell_type": "code",
   "execution_count": null,
   "metadata": {},
   "outputs": [],
   "source": [
    "## Algo links\n",
    "\n",
    "# https://wiki.python.org/moin/BitManipulation\n",
    "# https://www.topcoder.com/community/competitive-programming/tutorials/binary-indexed-trees/"
   ]
  },
  {
   "cell_type": "code",
   "execution_count": 1,
   "metadata": {},
   "outputs": [],
   "source": [
    "import heapq\n",
    "\n",
    "import numpy as np\n"
   ]
  },
  {
   "cell_type": "code",
   "execution_count": 2,
   "metadata": {
    "scrolled": true
   },
   "outputs": [
    {
     "name": "stdout",
     "output_type": "stream",
     "text": [
      "[[ 1. 12.  1.  1.]\n",
      " [ 1.  1.  1.  1.]\n",
      " [ 1.  1.  1.  1.]\n",
      " [ 1.  1.  1.  1.]\n",
      " [ 1.  1.  1.  1.]] [[1, 12, 1, 1], [1, 1, 1, 1], [1, 1, 1, 1], [1, 1, 1, 1], [1, 1, 1, 1]]\n"
     ]
    }
   ],
   "source": [
    "#Initialize matrix\n",
    "\n",
    "a = np.ones((5,4))\n",
    "m, n = 5, 4\n",
    "b = [[1]*4 for i in range(5)]\n",
    "b = [[1 for j in range(n)] for i in range(m)]\n",
    "a[0,1] = b[0][1] = 12\n",
    "\n",
    "print(a,b)"
   ]
  },
  {
   "cell_type": "code",
   "execution_count": 9,
   "metadata": {},
   "outputs": [
    {
     "name": "stdout",
     "output_type": "stream",
     "text": [
      "2 3 0 1 "
     ]
    }
   ],
   "source": [
    "#BFS, DFS on a directed graph\n",
    "\n",
    "from collections import defaultdict \n",
    "  \n",
    "class Graph: \n",
    "    def __init__(self):   \n",
    "        self.graph = defaultdict(list) \n",
    "\n",
    "    def addEdge(self,u,v): \n",
    "        self.graph[u].append(v) \n",
    "\n",
    "    def BFS(self, s):   \n",
    "        visited = [False] * (len(self.graph)) \n",
    "        queue = [] \n",
    "        queue.append(s) \n",
    "        visited[s] = True  \n",
    "        while queue: \n",
    "            s = queue.pop()  #0 for BFS, -1 for DFS\n",
    "            print (s, end = \" \") \n",
    "            for i in self.graph[s]: \n",
    "                if visited[i] == False: \n",
    "                    queue.append(i) \n",
    "                    visited[i] = True\n",
    "\n",
    "g = Graph()\n",
    "g.addEdge(0, 1)\n",
    "g.addEdge(0, 2) \n",
    "g.addEdge(1, 2) \n",
    "g.addEdge(2, 0) \n",
    "g.addEdge(2, 3) \n",
    "g.addEdge(3, 3) \n",
    "g.BFS(2)"
   ]
  },
  {
   "cell_type": "code",
   "execution_count": 17,
   "metadata": {},
   "outputs": [],
   "source": [
    "#Dijkstras shortest path on undirected graph\n",
    "\n",
    "import queue  \n",
    "from collections import namedtuple\n",
    "\n",
    "Edge = namedtuple('Edge', ['vertex', 'weight'])\n",
    "\n",
    "class GraphUndirectedWeighted():  \n",
    "    def __init__(self, vertex_count):\n",
    "        self.vertex_count = vertex_count\n",
    "        self.adjacency_list = [[] for _ in range(vertex_count)]\n",
    "\n",
    "    def add_edge(self, source, dest, weight):\n",
    "        assert source < self.vertex_count\n",
    "        assert dest < self.vertex_count\n",
    "        self.adjacency_list[source].append(Edge(dest, weight))\n",
    "        self.adjacency_list[dest].append(Edge(source, weight))\n",
    "\n",
    "    def get_edge(self, vertex):\n",
    "        for e in self.adjacency_list[vertex]:\n",
    "            yield e\n",
    "\n",
    "    def get_vertex(self):\n",
    "        for v in range(self.vertex_count):\n",
    "            yield v\n",
    "\n",
    "\n",
    "def dijkstra(graph, source, dest):  \n",
    "    q = queue.PriorityQueue()\n",
    "    parents = []\n",
    "    distances = []\n",
    "    start_weight = float(\"inf\")\n",
    "\n",
    "    for i in graph.get_vertex():\n",
    "        weight = start_weight\n",
    "        if source == i:\n",
    "            weight = 0\n",
    "        distances.append(weight)\n",
    "        parents.append(None)\n",
    "\n",
    "    q.put(([0, source]))\n",
    "\n",
    "    while not q.empty():\n",
    "        v_tuple = q.get()\n",
    "        v = v_tuple[1]\n",
    "\n",
    "        for e in graph.get_edge(v):\n",
    "            candidate_distance = distances[v] + e.weight\n",
    "            if distances[e.vertex] > candidate_distance:\n",
    "                distances[e.vertex] = candidate_distance\n",
    "                parents[e.vertex] = v\n",
    "                # primitive but effective negative cycle detection\n",
    "                if candidate_distance < -1000:\n",
    "                    raise Exception(\"Negative cycle detected\")\n",
    "                q.put(([distances[e.vertex], e.vertex]))\n",
    "\n",
    "    shortest_path = []\n",
    "    end = dest\n",
    "    while end is not None:\n",
    "        shortest_path.append(end)\n",
    "        end = parents[end]\n",
    "\n",
    "    shortest_path.reverse()\n",
    "\n",
    "    return shortest_path, distances[dest]\n",
    "\n",
    "\n",
    "def main():  \n",
    "    g = GraphUndirectedWeighted(9)\n",
    "    g.add_edge(0, 1, 4)\n",
    "    g.add_edge(1, 7, 6)\n",
    "    g.add_edge(1, 2, 1)\n",
    "    g.add_edge(2, 3, 3)\n",
    "    g.add_edge(3, 7, 1)\n",
    "    g.add_edge(3, 4, 2)\n",
    "    g.add_edge(3, 5, 1)\n",
    "    g.add_edge(4, 5, 1)\n",
    "    g.add_edge(5, 6, 1)\n",
    "    g.add_edge(6, 7, 2)\n",
    "    g.add_edge(6, 8, 2)\n",
    "    g.add_edge(7, 8, 2)\n",
    "    # for testing negative cycles\n",
    "    # g.add_edge(1, 9, -5)\n",
    "    # g.add_edge(9, 7, -4)\n",
    "\n",
    "    shortest_path, distance = dijkstra(g, 0, 1)\n",
    "    assert shortest_path == [0, 1] and distance == 4\n",
    "\n",
    "    shortest_path, distance = dijkstra(g, 0, 8)\n",
    "    assert shortest_path == [0, 1, 2, 3, 7, 8] and distance == 11\n",
    "\n",
    "    shortest_path, distance = dijkstra(g, 5, 0)\n",
    "    assert shortest_path == [5, 3, 2, 1, 0] and distance == 9\n",
    "\n",
    "    shortest_path, distance = dijkstra(g, 1, 1)\n",
    "    assert shortest_path == [1] and distance == 0\n",
    "\n",
    "\n",
    "main()"
   ]
  },
  {
   "cell_type": "code",
   "execution_count": 23,
   "metadata": {},
   "outputs": [
    {
     "name": "stdout",
     "output_type": "stream",
     "text": [
      "Following is a Topological Sort of the given graph\n",
      "[5, 4, 2, 3, 1, 0]\n"
     ]
    }
   ],
   "source": [
    "#Topological sorting of a DAG \n",
    "\n",
    "from collections import defaultdict \n",
    "  \n",
    "class Graph: \n",
    "    def __init__(self,vertices): \n",
    "        self.graph = defaultdict(list)\n",
    "        self.V = vertices\n",
    "  \n",
    "    def addEdge(self,u,v): \n",
    "        self.graph[u].append(v) \n",
    "  \n",
    "    def topologicalSortUtil(self,v,visited,stack): \n",
    "        visited[v] = True\n",
    "        for i in self.graph[v]: \n",
    "            if visited[i] == False: \n",
    "                self.topologicalSortUtil(i,visited,stack) \n",
    "        #stack.insert(0,v) \n",
    "        stack.append(v)\n",
    "  \n",
    "    def topologicalSort(self): \n",
    "        visited = [False]*self.V \n",
    "        stack =[] \n",
    "  \n",
    "        for i in range(self.V): \n",
    "            if visited[i] == False: \n",
    "                self.topologicalSortUtil(i,visited,stack) \n",
    "        stack.reverse() #remove if stack.insert(0,v) is used\n",
    "        print (stack)\n",
    "\n",
    "g = Graph(6) \n",
    "g.addEdge(5, 2) \n",
    "g.addEdge(5, 0) \n",
    "g.addEdge(4, 0) \n",
    "g.addEdge(4, 1) \n",
    "g.addEdge(2, 3) \n",
    "g.addEdge(3, 1) \n",
    "  \n",
    "print (\"Following is a Topological Sort of the given graph\")\n",
    "g.topologicalSort() "
   ]
  },
  {
   "cell_type": "code",
   "execution_count": null,
   "metadata": {},
   "outputs": [],
   "source": []
  },
  {
   "cell_type": "code",
   "execution_count": null,
   "metadata": {},
   "outputs": [],
   "source": []
  },
  {
   "cell_type": "code",
   "execution_count": null,
   "metadata": {},
   "outputs": [],
   "source": []
  }
 ],
 "metadata": {
  "kernelspec": {
   "display_name": "Python 3",
   "language": "python",
   "name": "python3"
  },
  "language_info": {
   "codemirror_mode": {
    "name": "ipython",
    "version": 3
   },
   "file_extension": ".py",
   "mimetype": "text/x-python",
   "name": "python",
   "nbconvert_exporter": "python",
   "pygments_lexer": "ipython3",
   "version": "3.6.5"
  }
 },
 "nbformat": 4,
 "nbformat_minor": 2
}
