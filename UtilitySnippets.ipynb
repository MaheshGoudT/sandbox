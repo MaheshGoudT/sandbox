{
 "cells": [
  {
   "cell_type": "code",
   "execution_count": 17,
   "metadata": {},
   "outputs": [
    {
     "data": {
      "text/plain": [
       "array([[4, 6, 3, 4],\n",
       "       [6, 1, 6, 5],\n",
       "       [1, 3, 5, 1],\n",
       "       [4, 3, 4, 2],\n",
       "       [3, 1, 3, 2]])"
      ]
     },
     "execution_count": 17,
     "metadata": {},
     "output_type": "execute_result"
    }
   ],
   "source": [
    "import numpy as np\n",
    "\n",
    "# np.zeros((5,4))\n",
    "np.random.randint(1,7,(5,4))"
   ]
  },
  {
   "cell_type": "code",
   "execution_count": 4,
   "metadata": {},
   "outputs": [
    {
     "data": {
      "text/plain": [
       "0"
      ]
     },
     "execution_count": 4,
     "metadata": {},
     "output_type": "execute_result"
    }
   ],
   "source": [
    "from collections import Counter\n",
    "\n",
    "c = Counter([1,2,3])\n",
    "c[4]"
   ]
  },
  {
   "cell_type": "code",
   "execution_count": 20,
   "metadata": {},
   "outputs": [
    {
     "data": {
      "text/plain": [
       "-9223372036854775807"
      ]
     },
     "execution_count": 20,
     "metadata": {},
     "output_type": "execute_result"
    }
   ],
   "source": [
    "import sys\n",
    "sys.maxsize"
   ]
  },
  {
   "cell_type": "code",
   "execution_count": null,
   "metadata": {},
   "outputs": [],
   "source": []
  },
  {
   "cell_type": "code",
   "execution_count": null,
   "metadata": {},
   "outputs": [],
   "source": []
  },
  {
   "cell_type": "markdown",
   "metadata": {},
   "source": [
    "## Cloud"
   ]
  },
  {
   "cell_type": "code",
   "execution_count": null,
   "metadata": {},
   "outputs": [],
   "source": [
    "#Read many part files from AWS s3\n",
    "\n",
    "import boto3, io, s3fs\n",
    "from multiprocessing import Pool\n",
    "\n",
    "def serial_read_part_files_to_df(bucket_name, parent_key):\n",
    "    s3 = boto3.resource('s3')\n",
    "    bucket = s3.Bucket(bucket_name)\n",
    "    prefix_objs = bucket.objects.filter(Prefix=parent_key)\n",
    "    sub_df = []\n",
    "    for obj in prefix_objs:\n",
    "        file_key = obj.key\n",
    "        print(file_key)\n",
    "        cur_df = pd.read_csv('s3://'+bucket_name+'/'+file_key, compression='gzip', header=0, sep='|', quotechar='\"')\n",
    "        cur_df = cur_df[valid_col]\n",
    "        sub_df.append(cur_df)\n",
    "    return pd.concat(sub_df)\n",
    "\n",
    "def parallel_read_part_files_to_df(bucket_name, parent_key):\n",
    "    def get_data(file_key):\n",
    "        print(file_key)\n",
    "        cur_df = pd.read_csv('s3://'+bucket_name+'/'+file_key, compression='gzip', header=0, sep='|', quotechar='\"')\n",
    "        cur_df = cur_df[valid_col]\n",
    "        sub_df.append(cur_df)        \n",
    "    s3 = boto3.resource('s3')\n",
    "    bucket = s3.Bucket(bucket_name)\n",
    "    prefix_objs = bucket.objects.filter(Prefix=parent_key)\n",
    "    file_keys = tuple(map(lambda x : x.key, prefix_objs))\n",
    "    sub_df = []\n",
    "    agents, chunksize = 4, 5\n",
    "    with Pool(processes=agents) as pool:\n",
    "        sub_df = pool.map(get_data, file_keys, chunksize)\n",
    "    return pd.concat(sub_df)\n"
   ]
  }
 ],
 "metadata": {
  "kernelspec": {
   "display_name": "Python 3",
   "language": "python",
   "name": "python3"
  },
  "language_info": {
   "codemirror_mode": {
    "name": "ipython",
    "version": 3
   },
   "file_extension": ".py",
   "mimetype": "text/x-python",
   "name": "python",
   "nbconvert_exporter": "python",
   "pygments_lexer": "ipython3",
   "version": "3.6.5"
  }
 },
 "nbformat": 4,
 "nbformat_minor": 2
}
