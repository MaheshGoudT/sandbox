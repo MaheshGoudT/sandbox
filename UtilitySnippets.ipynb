{
 "cells": [
  {
   "cell_type": "code",
   "execution_count": 17,
   "metadata": {},
   "outputs": [
    {
     "data": {
      "text/plain": [
       "array([[4, 6, 3, 4],\n",
       "       [6, 1, 6, 5],\n",
       "       [1, 3, 5, 1],\n",
       "       [4, 3, 4, 2],\n",
       "       [3, 1, 3, 2]])"
      ]
     },
     "execution_count": 17,
     "metadata": {},
     "output_type": "execute_result"
    }
   ],
   "source": [
    "import numpy as np\n",
    "\n",
    "# np.zeros((5,4))\n",
    "np.random.randint(1,7,(5,4))"
   ]
  },
  {
   "cell_type": "code",
   "execution_count": 4,
   "metadata": {},
   "outputs": [
    {
     "data": {
      "text/plain": [
       "0"
      ]
     },
     "execution_count": 4,
     "metadata": {},
     "output_type": "execute_result"
    }
   ],
   "source": [
    "from collections import Counter\n",
    "\n",
    "c = Counter([1,2,3])\n",
    "c[4]"
   ]
  },
  {
   "cell_type": "code",
   "execution_count": 20,
   "metadata": {},
   "outputs": [
    {
     "data": {
      "text/plain": [
       "-9223372036854775807"
      ]
     },
     "execution_count": 20,
     "metadata": {},
     "output_type": "execute_result"
    }
   ],
   "source": [
    "import sys\n",
    "sys.maxsize"
   ]
  },
  {
   "cell_type": "code",
   "execution_count": null,
   "metadata": {},
   "outputs": [],
   "source": []
  },
  {
   "cell_type": "code",
   "execution_count": null,
   "metadata": {},
   "outputs": [],
   "source": []
  },
  {
   "cell_type": "markdown",
   "metadata": {},
   "source": [
    "## Cloud"
   ]
  },
  {
   "cell_type": "code",
   "execution_count": null,
   "metadata": {},
   "outputs": [],
   "source": [
    "#Read many part files from AWS s3\n",
    "\n",
    "import boto3, io, s3fs\n",
    "from multiprocessing import Pool\n",
    "\n",
    "## Connections\n",
    "\n",
    "# conn = connect(\n",
    "#     aws_access_key_id='YOUR_ACCESS_KEY_ID',\n",
    "#     aws_secret_access_key='YOUR_SECRET_ACCESS_KEY',\n",
    "#     s3_staging_dir='s3://bucket/staging/',\n",
    "#     region_name='us-east-1')\n",
    "\n",
    "# cursor = connect(\n",
    "#     aws_access_key_id='YOUR_ACCESS_KEY_ID',\n",
    "#     aws_secret_access_key='YOUR_SECRET_ACCESS_KEY',\n",
    "#     s3_staging_dir='s3://bucket/staging/',\n",
    "#     region_name='us-east-1').cursor()\n",
    "\n",
    "## --------------------------------------------------\n",
    "## Pandas batch style based data fetch (Error: Query times out for large datasets)\n",
    "\n",
    "# def read_data_from_athena(db_name, table_name):\n",
    "#     query = \"SELECT * FROM {}.{}\".format(db_name, table_name) \n",
    "#     cur_df = pd.read_sql(query, conn)\n",
    "#     return cur_df\n",
    "\n",
    "# raw_training_df = read_data_from_athena(db_name, table_name)\n",
    "\n",
    "## --------------------------------------------------\n",
    "## Cursor based data fetch (Error: No result set for large datasets)\n",
    "\n",
    "# def get_cursor_iterator(db_name, table_name):\n",
    "#     query = \"SELECT * FROM {}.{} limit 10\".format(db_name, table_name)\n",
    "#     print(query)\n",
    "#     for row in cursor:\n",
    "#         print(row)\n",
    "#         break\n",
    "\n",
    "# get_cursor_iterator(db_name, table_name)\n",
    "\n",
    "## --------------------------------------------------\n",
    "def serial_read_part_files_to_df(bucket_name, parent_key):\n",
    "    s3 = boto3.resource('s3')\n",
    "    bucket = s3.Bucket(bucket_name)\n",
    "    prefix_objs = bucket.objects.filter(Prefix=parent_key)\n",
    "    sub_df = []\n",
    "    for obj in prefix_objs:\n",
    "        file_key = obj.key\n",
    "        print(file_key)\n",
    "        cur_df = pd.read_csv('s3://'+bucket_name+'/'+file_key, compression='gzip', header=0, sep='|', quotechar='\"')\n",
    "        cur_df = cur_df[valid_cols]\n",
    "        sub_df.append(cur_df)\n",
    "    return pd.concat(sub_df)\n",
    "\n",
    "def get_data(bucket_name, file_key, valid_cols):\n",
    "    print(file_key)\n",
    "    cur_df = pd.read_csv('s3://'+bucket_name+'/'+file_key, compression='gzip', header=0, sep='|', quotechar='\"')\n",
    "    cur_df = cur_df[valid_cols]\n",
    "    return cur_df\n",
    "\n",
    "class GET_DATA(): #Helper class to invoke get_data() as local lambda's cannot be pickled so cannot be used with pool.map. functools.partial can also be used \n",
    "    def __init__(self, bucket_name, valid_cols):\n",
    "        self.bucket_name = bucket_name\n",
    "        self.valid_cols = valid_cols\n",
    "    def __call__(self, file_key):\n",
    "        return get_data(self.bucket_name, file_key, self.valid_cols)\n",
    "\n",
    "def parallel_read_part_files_to_df(bucket_name, parent_key):\n",
    "    s3 = boto3.resource('s3')\n",
    "    bucket = s3.Bucket(bucket_name)\n",
    "    prefix_objs = bucket.objects.filter(Prefix=parent_key)\n",
    "    file_keys = tuple(map(lambda x : x.key, prefix_objs))\n",
    "    agents, chunksize = 5, 25\n",
    "    GD = GET_DATA(bucket_name, valid_cols)\n",
    "    with Pool(processes=agents) as pool:\n",
    "        sub_df = pool.map(GD, file_keys, chunksize)\n",
    "    return pd.concat(sub_df)\n"
   ]
  },
  {
   "cell_type": "code",
   "execution_count": null,
   "metadata": {},
   "outputs": [],
   "source": []
  },
  {
   "cell_type": "code",
   "execution_count": null,
   "metadata": {},
   "outputs": [],
   "source": []
  },
  {
   "cell_type": "markdown",
   "metadata": {},
   "source": [
    "## Docker"
   ]
  },
  {
   "cell_type": "raw",
   "metadata": {},
   "source": [
    "FROM amazonlinux:latest\n",
    "MAINTAINER Mahesh \"abcd@gmail.com\"\n",
    "\n",
    "ADD requirements.txt /home/requirements.txt\n",
    "WORKDIR /home\n",
    "\n",
    "RUN yum -y install python36 python36-virtualenv python36-pip findutils wget zip unzip file && \\\n",
    "\tpython3 -m venv amlenv && \\\n",
    "\tsource amlenv/bin/activate && \\\n",
    "\tamlenv/bin/pip3 install -t amlbins/ -r requirements.txt\n"
   ]
  },
  {
   "cell_type": "raw",
   "metadata": {},
   "source": [
    "docker build -t abcd .\n",
    "docker run --rm -v $(pwd):/tmp abcd:latest sh -c \"cp -r /home/amlbins /tmp\"\n",
    "\n",
    "https://github.com/indeedeng/vowpal-wabbit-java/blob/master/build-jni/vw-linux-build-docker-img/Dockerfile"
   ]
  }
 ],
 "metadata": {
  "kernelspec": {
   "display_name": "Python 3",
   "language": "python",
   "name": "python3"
  },
  "language_info": {
   "codemirror_mode": {
    "name": "ipython",
    "version": 3
   },
   "file_extension": ".py",
   "mimetype": "text/x-python",
   "name": "python",
   "nbconvert_exporter": "python",
   "pygments_lexer": "ipython3",
   "version": "3.6.5"
  }
 },
 "nbformat": 4,
 "nbformat_minor": 2
}
